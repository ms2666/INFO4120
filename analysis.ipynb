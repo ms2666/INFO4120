{
 "cells": [
  {
   "cell_type": "code",
   "execution_count": 1,
   "metadata": {},
   "outputs": [
    {
     "name": "stderr",
     "output_type": "stream",
     "text": [
      "/home/m/anaconda3/lib/python3.5/site-packages/matplotlib/font_manager.py:280: UserWarning: Matplotlib is building the font cache using fc-list. This may take a moment.\n",
      "  'Matplotlib is building the font cache using fc-list. '\n",
      "Using Theano backend.\n",
      "Using cuDNN version 5110 on context None\n",
      "Mapped name None to device cuda: TITAN X (Pascal) (0000:01:00.0)\n"
     ]
    }
   ],
   "source": [
    "import numpy as np\n",
    "import matplotlib.pyplot as plt\n",
    "import pandas as pd\n",
    "import os, re, sys\n",
    "\n",
    "# sklearn stuff\n",
    "from sklearn.linear_model import LogisticRegression\n",
    "from sklearn.model_selection import train_test_split\n",
    "from sklearn.decomposition import PCA\n",
    "from sklearn.preprocessing import StandardScaler\n",
    "from sklearn.metrics import confusion_matrix\n",
    "from sklearn.externals import joblib\n",
    "\n",
    "# keras stuff\n",
    "import keras\n",
    "from keras.models import Sequential\n",
    "from keras.layers import Dense, Activation, Dropout, Conv2D, MaxPooling2D, Flatten\n",
    "from keras.optimizers import SGD\n",
    "\n",
    "# scipy stuff\n",
    "from scipy.interpolate import interp1d\n",
    "\n",
    "%matplotlib inline"
   ]
  },
  {
   "cell_type": "markdown",
   "metadata": {},
   "source": [
    "Things to consider:\n",
    "\n",
    "- use multiple steps instead of one per training example\n",
    "- use LSTM instead of ConvNet"
   ]
  },
  {
   "cell_type": "markdown",
   "metadata": {},
   "source": [
    "# Load data"
   ]
  },
  {
   "cell_type": "code",
   "execution_count": 2,
   "metadata": {
    "collapsed": true
   },
   "outputs": [],
   "source": [
    "data = pd.read_pickle('./Data/processed/full.pickle')"
   ]
  },
  {
   "cell_type": "code",
   "execution_count": 3,
   "metadata": {
    "collapsed": true
   },
   "outputs": [],
   "source": [
    "labels = np.load('./Data/processed/labels.npy')"
   ]
  },
  {
   "cell_type": "markdown",
   "metadata": {},
   "source": [
    "# Split and scale data, convert to 0 indexing"
   ]
  },
  {
   "cell_type": "code",
   "execution_count": 4,
   "metadata": {
    "collapsed": true
   },
   "outputs": [],
   "source": [
    "xTr, xTe, yTr, yTe = train_test_split(data.values, labels, test_size=0.2)\n",
    "ss = StandardScaler()\n",
    "xTr = ss.fit_transform(xTr)\n",
    "xTe = ss.transform(xTe)\n",
    "yTr = np.mod(yTr, 50)\n",
    "yTe = np.mod(yTe, 50)"
   ]
  },
  {
   "cell_type": "markdown",
   "metadata": {},
   "source": [
    "### Convert labels to categorical"
   ]
  },
  {
   "cell_type": "code",
   "execution_count": 5,
   "metadata": {
    "collapsed": true
   },
   "outputs": [],
   "source": [
    "yTr_cat = keras.utils.to_categorical(yTr, num_classes=50)\n",
    "yTe_cat = keras.utils.to_categorical(yTe, num_classes=50)"
   ]
  },
  {
   "cell_type": "markdown",
   "metadata": {},
   "source": [
    "# Simple linear model"
   ]
  },
  {
   "cell_type": "code",
   "execution_count": 6,
   "metadata": {
    "collapsed": true
   },
   "outputs": [],
   "source": [
    "lr_fname = './Data/processed/lr_trained.pkl'\n",
    "if os.path.isfile(lr_fname):\n",
    "    lr = joblib.load(lr_fname)\n",
    "else:\n",
    "    lr = LogisticRegression(verbose=1, n_jobs=-1)\n",
    "    lr.fit(xTr, yTr)"
   ]
  },
  {
   "cell_type": "code",
   "execution_count": 7,
   "metadata": {},
   "outputs": [
    {
     "data": {
      "text/plain": [
       "0.39671307920566079"
      ]
     },
     "execution_count": 7,
     "metadata": {},
     "output_type": "execute_result"
    }
   ],
   "source": [
    "lr.score(xTe, yTe)"
   ]
  },
  {
   "cell_type": "code",
   "execution_count": 8,
   "metadata": {
    "scrolled": true
   },
   "outputs": [
    {
     "name": "stdout",
     "output_type": "stream",
     "text": [
      "27 27\n",
      "46 46\n",
      "4 4\n",
      "18 33 FAIL\n",
      "36 36\n",
      "2 2\n",
      "23 23\n",
      "49 16 FAIL\n",
      "18 2 FAIL\n",
      "23 23\n",
      "40 40\n",
      "17 23 FAIL\n",
      "2 49 FAIL\n",
      "36 36\n",
      "28 29 FAIL\n",
      "18 28 FAIL\n",
      "34 33 FAIL\n",
      "29 29\n",
      "18 18\n",
      "7 7\n",
      "18 41 FAIL\n",
      "29 28 FAIL\n",
      "18 33 FAIL\n",
      "40 13 FAIL\n",
      "18 19 FAIL\n",
      "33 43 FAIL\n",
      "36 36\n",
      "18 19 FAIL\n",
      "23 23\n",
      "18 28 FAIL\n",
      "10 18 FAIL\n",
      "20 2 FAIL\n",
      "23 24 FAIL\n",
      "43 43\n",
      "21 30 FAIL\n",
      "23 23\n",
      "18 18\n",
      "6 9 FAIL\n",
      "8 8\n",
      "18 18\n",
      "20 28 FAIL\n",
      "31 26 FAIL\n",
      "18 34 FAIL\n",
      "7 4 FAIL\n",
      "24 24\n",
      "23 23\n",
      "36 36\n",
      "2 2\n",
      "33 33\n",
      "33 33\n",
      "43 43\n",
      "24 27 FAIL\n",
      "18 36 FAIL\n",
      "33 24 FAIL\n",
      "23 43 FAIL\n",
      "8 2 FAIL\n",
      "21 28 FAIL\n",
      "36 13 FAIL\n",
      "18 22 FAIL\n",
      "36 20 FAIL\n",
      "20 20\n",
      "34 34\n",
      "41 40 FAIL\n",
      "31 14 FAIL\n",
      "26 26\n",
      "41 41\n",
      "23 2 FAIL\n",
      "26 33 FAIL\n",
      "33 33\n",
      "40 40\n",
      "3 3\n",
      "6 31 FAIL\n",
      "36 36\n",
      "2 2\n",
      "26 24 FAIL\n",
      "23 35 FAIL\n",
      "4 46 FAIL\n",
      "23 23\n",
      "20 18 FAIL\n",
      "33 19 FAIL\n",
      "33 18 FAIL\n",
      "23 29 FAIL\n",
      "2 29 FAIL\n",
      "10 20 FAIL\n",
      "30 23 FAIL\n",
      "23 23\n",
      "33 7 FAIL\n",
      "23 28 FAIL\n",
      "3 2 FAIL\n",
      "40 40\n",
      "28 23 FAIL\n",
      "10 19 FAIL\n",
      "40 40\n",
      "30 30\n",
      "4 4\n",
      "18 18\n",
      "16 16\n",
      "18 18\n",
      "18 48 FAIL\n",
      "31 24 FAIL\n",
      "23 23\n"
     ]
    }
   ],
   "source": [
    "ctr = 0\n",
    "for a,b in zip(lr.predict(xTe), yTe):\n",
    "    if a == b:\n",
    "        print(a,b)\n",
    "    else:\n",
    "        print(a,b,'FAIL')\n",
    "    \n",
    "    ctr += 1\n",
    "    if ctr > 100:\n",
    "        break"
   ]
  },
  {
   "cell_type": "code",
   "execution_count": 9,
   "metadata": {},
   "outputs": [
    {
     "data": {
      "image/png": "[encoded data removed]",
      "text/plain": [
       "<matplotlib.figure.Figure at 0x7f8edc3d5668>"
      ]
     },
     "metadata": {},
     "output_type": "display_data"
    }
   ],
   "source": [
    "a = confusion_matrix(lr.predict(xTe), yTe)\n",
    "plt.figure(figsize=(6,6))\n",
    "plt.imshow(a/a.sum(axis=0), cmap='hot', interpolation='nearest')\n",
    "plt.colorbar()\n",
    "plt.show()"
   ]
  },
  {
   "cell_type": "code",
   "execution_count": 10,
   "metadata": {},
   "outputs": [
    {
     "data": {
      "text/plain": [
       "['./Data/processed/lr_trained.pkl']"
      ]
     },
     "execution_count": 10,
     "metadata": {},
     "output_type": "execute_result"
    }
   ],
   "source": [
    "joblib.dump(lr, lr_fname)"
   ]
  },
  {
   "cell_type": "markdown",
   "metadata": {},
   "source": [
    "# Neural Networks"
   ]
  },
  {
   "cell_type": "markdown",
   "metadata": {},
   "source": [
    "## Fully connected"
   ]
  },
  {
   "cell_type": "code",
   "execution_count": 6,
   "metadata": {
    "collapsed": true
   },
   "outputs": [],
   "source": [
    "model = Sequential([\n",
    "        Dense(512, input_dim=900, activation='relu'),\n",
    "        Dropout(0.5),\n",
    "        Dense(512, activation='relu'),\n",
    "        Dropout(0.5),\n",
    "        Dense(256, activation='relu'),\n",
    "        Dropout(0.5),\n",
    "        Dense(128, activation='relu'),\n",
    "        Dropout(0.5),\n",
    "        Dense(50, activation='softmax')\n",
    "    ])\n",
    "sgd = SGD(lr=0.01, decay=1e-6, momentum=0.9, nesterov=True)\n",
    "model.compile(loss='categorical_crossentropy', optimizer='rmsprop', metrics=['accuracy'])"
   ]
  },
  {
   "cell_type": "code",
   "execution_count": 7,
   "metadata": {
    "scrolled": true
   },
   "outputs": [
    {
     "name": "stdout",
     "output_type": "stream",
     "text": [
      "Epoch 1/50\n",
      "17522/17522 [==============================] - 0s - loss: 3.0277 - acc: 0.2322     \n",
      "Epoch 2/50\n",
      "17522/17522 [==============================] - 0s - loss: 2.0344 - acc: 0.4189     \n",
      "Epoch 3/50\n",
      "17522/17522 [==============================] - 0s - loss: 1.5424 - acc: 0.5242     \n",
      "Epoch 4/50\n",
      "17522/17522 [==============================] - 0s - loss: 1.2537 - acc: 0.5878     \n",
      "Epoch 5/50\n",
      "17522/17522 [==============================] - 0s - loss: 1.0747 - acc: 0.6284     \n",
      "Epoch 6/50\n",
      "17522/17522 [==============================] - 0s - loss: 0.9536 - acc: 0.6602     \n",
      "Epoch 7/50\n",
      "17522/17522 [==============================] - 0s - loss: 0.8686 - acc: 0.6826     \n",
      "Epoch 8/50\n",
      "17522/17522 [==============================] - 0s - loss: 0.8306 - acc: 0.6883     \n",
      "Epoch 9/50\n",
      "17522/17522 [==============================] - 0s - loss: 0.7620 - acc: 0.7059     \n",
      "Epoch 10/50\n",
      "17522/17522 [==============================] - 0s - loss: 0.7283 - acc: 0.7139     \n",
      "Epoch 11/50\n",
      "17522/17522 [==============================] - 0s - loss: 0.7140 - acc: 0.7164     \n",
      "Epoch 12/50\n",
      "17522/17522 [==============================] - 0s - loss: 0.6786 - acc: 0.7265     \n",
      "Epoch 13/50\n",
      "17522/17522 [==============================] - 0s - loss: 0.6767 - acc: 0.7260     \n",
      "Epoch 14/50\n",
      "17522/17522 [==============================] - 0s - loss: 0.6564 - acc: 0.7308     \n",
      "Epoch 15/50\n",
      "17522/17522 [==============================] - 0s - loss: 0.6481 - acc: 0.7348     \n",
      "Epoch 16/50\n",
      "17522/17522 [==============================] - 0s - loss: 0.6157 - acc: 0.7392     \n",
      "Epoch 17/50\n",
      "17522/17522 [==============================] - 0s - loss: 0.6218 - acc: 0.7422     \n",
      "Epoch 18/50\n",
      "17522/17522 [==============================] - 0s - loss: 0.6208 - acc: 0.7439     \n",
      "Epoch 19/50\n",
      "17522/17522 [==============================] - 0s - loss: 0.6104 - acc: 0.7477     \n",
      "Epoch 20/50\n",
      "17522/17522 [==============================] - 0s - loss: 0.6193 - acc: 0.7461     \n",
      "Epoch 21/50\n",
      "17522/17522 [==============================] - 0s - loss: 0.6018 - acc: 0.7448     \n",
      "Epoch 22/50\n",
      "17522/17522 [==============================] - 0s - loss: 0.5904 - acc: 0.7470     \n",
      "Epoch 23/50\n",
      "17522/17522 [==============================] - 0s - loss: 0.5804 - acc: 0.7506     \n",
      "Epoch 24/50\n",
      "17522/17522 [==============================] - 0s - loss: 0.5825 - acc: 0.7558     \n",
      "Epoch 25/50\n",
      "17522/17522 [==============================] - 0s - loss: 0.5735 - acc: 0.7554     \n",
      "Epoch 26/50\n",
      "17522/17522 [==============================] - 0s - loss: 0.5687 - acc: 0.7556     \n",
      "Epoch 27/50\n",
      "17522/17522 [==============================] - 0s - loss: 0.5758 - acc: 0.7561     \n",
      "Epoch 28/50\n",
      "17522/17522 [==============================] - 0s - loss: 0.5738 - acc: 0.7575     \n",
      "Epoch 29/50\n",
      "17522/17522 [==============================] - 0s - loss: 0.5509 - acc: 0.7626     \n",
      "Epoch 30/50\n",
      "17522/17522 [==============================] - 0s - loss: 0.5756 - acc: 0.7562     \n",
      "Epoch 31/50\n",
      "17522/17522 [==============================] - 0s - loss: 0.5771 - acc: 0.7547     \n",
      "Epoch 32/50\n",
      "17522/17522 [==============================] - 0s - loss: 0.5817 - acc: 0.7584     \n",
      "Epoch 33/50\n",
      "17522/17522 [==============================] - 0s - loss: 0.5683 - acc: 0.7638     \n",
      "Epoch 34/50\n",
      "17522/17522 [==============================] - 0s - loss: 0.5581 - acc: 0.7597     \n",
      "Epoch 35/50\n",
      "17522/17522 [==============================] - 0s - loss: 0.5523 - acc: 0.7602     \n",
      "Epoch 36/50\n",
      "17522/17522 [==============================] - 0s - loss: 0.5614 - acc: 0.7605     \n",
      "Epoch 37/50\n",
      "17522/17522 [==============================] - 0s - loss: 0.5546 - acc: 0.7619     \n",
      "Epoch 38/50\n",
      "17522/17522 [==============================] - 0s - loss: 0.5598 - acc: 0.7618     \n",
      "Epoch 39/50\n",
      "17522/17522 [==============================] - 0s - loss: 0.5588 - acc: 0.7652     \n",
      "Epoch 40/50\n",
      "17522/17522 [==============================] - 0s - loss: 0.5508 - acc: 0.7640     \n",
      "Epoch 41/50\n",
      "17522/17522 [==============================] - 0s - loss: 0.5618 - acc: 0.7616     \n",
      "Epoch 42/50\n",
      "17522/17522 [==============================] - 0s - loss: 0.5528 - acc: 0.7608     \n",
      "Epoch 43/50\n",
      "17522/17522 [==============================] - 0s - loss: 0.5722 - acc: 0.7641     \n",
      "Epoch 44/50\n",
      "17522/17522 [==============================] - 0s - loss: 0.5673 - acc: 0.7595     \n",
      "Epoch 45/50\n",
      "17522/17522 [==============================] - 0s - loss: 0.5516 - acc: 0.7649     \n",
      "Epoch 46/50\n",
      "17522/17522 [==============================] - 0s - loss: 0.5601 - acc: 0.7653     \n",
      "Epoch 47/50\n",
      "17522/17522 [==============================] - 0s - loss: 0.5643 - acc: 0.7649     \n",
      "Epoch 48/50\n",
      "17522/17522 [==============================] - 0s - loss: 0.5525 - acc: 0.7648     \n",
      "Epoch 49/50\n",
      "17522/17522 [==============================] - 0s - loss: 0.5648 - acc: 0.7640     \n",
      "Epoch 50/50\n",
      "17522/17522 [==============================] - 0s - loss: 0.5664 - acc: 0.7648     \n"
     ]
    }
   ],
   "source": [
    "history = model.fit(xTr, yTr_cat, epochs=50, batch_size=128, verbose=1)"
   ]
  },
  {
   "cell_type": "code",
   "execution_count": 8,
   "metadata": {
    "collapsed": true
   },
   "outputs": [],
   "source": [
    "preds = model.predict(xTe)"
   ]
  },
  {
   "cell_type": "code",
   "execution_count": 9,
   "metadata": {},
   "outputs": [
    {
     "data": {
      "text/plain": [
       "0.78269801415202012"
      ]
     },
     "execution_count": 9,
     "metadata": {},
     "output_type": "execute_result"
    }
   ],
   "source": [
    "(preds.argmax(axis=1) == yTe).mean()"
   ]
  },
  {
   "cell_type": "code",
   "execution_count": 10,
   "metadata": {},
   "outputs": [
    {
     "data": {
      "image/png": "[encoded data removed]",
      "text/plain": [
       "<matplotlib.figure.Figure at 0x7f0498560c88>"
      ]
     },
     "metadata": {},
     "output_type": "display_data"
    },
    {
     "data": {
      "image/png": "[encoded data removed]",
      "text/plain": [
       "<matplotlib.figure.Figure at 0x7f0494b52588>"
      ]
     },
     "metadata": {},
     "output_type": "display_data"
    }
   ],
   "source": [
    "plt.plot(history.history['acc'])\n",
    "plt.title('accuracy')\n",
    "plt.show()\n",
    "plt.plot(history.history['loss'])\n",
    "plt.title('loss')\n",
    "plt.show()"
   ]
  },
  {
   "cell_type": "markdown",
   "metadata": {},
   "source": [
    "## ConvNet A"
   ]
  },
  {
   "cell_type": "code",
   "execution_count": 11,
   "metadata": {
    "collapsed": true
   },
   "outputs": [],
   "source": [
    "xTr_conv = xTr.reshape(-1, 3, 300, 1)\n",
    "xTe_conv = xTe.reshape(-1, 3, 300, 1)"
   ]
  },
  {
   "cell_type": "code",
   "execution_count": 12,
   "metadata": {
    "collapsed": true
   },
   "outputs": [],
   "source": [
    "model = Sequential([\n",
    "        Conv2D(128, (3,50), activation='relu', input_shape=(3,300,1), padding='same'),\n",
    "        Conv2D(128, (3,30), activation='relu', padding='same'),\n",
    "        Conv2D(128, (3,10), activation='relu', padding='same'),\n",
    "        Conv2D(128, (3,3), activation='relu', padding='same'),\n",
    "        MaxPooling2D(pool_size=(2,2)),\n",
    "        Flatten(),\n",
    "        Dense(512, activation='relu'),\n",
    "        Dropout(0.5),\n",
    "        Dense(512, activation='relu'),\n",
    "        Dropout(0.5),\n",
    "        Dense(50, activation='softmax')\n",
    "    ])\n",
    "sgd = SGD(lr=0.01, decay=1e-6, momentum=0.9, nesterov=True)\n",
    "model.compile(loss='categorical_crossentropy', optimizer=sgd, metrics=['accuracy'])"
   ]
  },
  {
   "cell_type": "code",
   "execution_count": 13,
   "metadata": {
    "scrolled": true
   },
   "outputs": [
    {
     "name": "stdout",
     "output_type": "stream",
     "text": [
      "Train on 17522 samples, validate on 4381 samples\n",
      "Epoch 1/10\n",
      "17522/17522 [==============================] - 57s - loss: 2.3634 - acc: 0.3675 - val_loss: 0.7551 - val_acc: 0.7092\n",
      "Epoch 2/10\n",
      "17522/17522 [==============================] - 58s - loss: 0.7860 - acc: 0.7192 - val_loss: 0.4221 - val_acc: 0.7774\n",
      "Epoch 3/10\n",
      "17522/17522 [==============================] - 59s - loss: 0.5329 - acc: 0.7699 - val_loss: 0.3746 - val_acc: 0.7809\n",
      "Epoch 4/10\n",
      "17522/17522 [==============================] - 60s - loss: 0.4417 - acc: 0.7925 - val_loss: 0.3425 - val_acc: 0.7797\n",
      "Epoch 5/10\n",
      "17522/17522 [==============================] - 61s - loss: 0.4042 - acc: 0.7878 - val_loss: 0.3239 - val_acc: 0.7834\n",
      "Epoch 6/10\n",
      "17522/17522 [==============================] - 62s - loss: 0.3739 - acc: 0.7968 - val_loss: 0.3286 - val_acc: 0.7852\n",
      "Epoch 7/10\n",
      "17522/17522 [==============================] - 61s - loss: 0.3583 - acc: 0.7991 - val_loss: 0.3204 - val_acc: 0.7802\n",
      "Epoch 8/10\n",
      "17522/17522 [==============================] - 61s - loss: 0.3473 - acc: 0.8006 - val_loss: 0.3147 - val_acc: 0.7850\n",
      "Epoch 9/10\n",
      "17522/17522 [==============================] - 61s - loss: 0.3338 - acc: 0.8013 - val_loss: 0.3071 - val_acc: 0.7850\n",
      "Epoch 10/10\n",
      "17522/17522 [==============================] - 61s - loss: 0.3301 - acc: 0.8072 - val_loss: 0.3132 - val_acc: 0.7779\n"
     ]
    }
   ],
   "source": [
    "history = model.fit(xTr_conv, yTr_cat, epochs=10, batch_size=128, validation_data=(xTe_conv, yTe_cat))"
   ]
  },
  {
   "cell_type": "code",
   "execution_count": 14,
   "metadata": {},
   "outputs": [
    {
     "data": {
      "text/plain": [
       "0.77790458799360873"
      ]
     },
     "execution_count": 14,
     "metadata": {},
     "output_type": "execute_result"
    }
   ],
   "source": [
    "preds = model.predict(xTe_conv)\n",
    "(preds.argmax(axis=1) == yTe).mean()"
   ]
  },
  {
   "cell_type": "code",
   "execution_count": 15,
   "metadata": {},
   "outputs": [
    {
     "data": {
      "image/png": "[encoded data removed]",
      "text/plain": [
       "<matplotlib.figure.Figure at 0x7f0490108358>"
      ]
     },
     "metadata": {},
     "output_type": "display_data"
    },
    {
     "data": {
      "image/png": "[encoded data removed]",
      "text/plain": [
       "<matplotlib.figure.Figure at 0x7f04a0838320>"
      ]
     },
     "metadata": {},
     "output_type": "display_data"
    }
   ],
   "source": [
    "plt.plot(history.history['acc'])\n",
    "plt.title('accuracy')\n",
    "plt.show()\n",
    "plt.plot(history.history['loss'])\n",
    "plt.title('loss')\n",
    "plt.show()"
   ]
  },
  {
   "cell_type": "markdown",
   "metadata": {},
   "source": [
    "## Convnet B"
   ]
  },
  {
   "cell_type": "code",
   "execution_count": 16,
   "metadata": {
    "collapsed": true
   },
   "outputs": [],
   "source": [
    "yTr_bin = np.logical_or(yTr == 18, yTr == 33) + 0\n",
    "yTe_bin = np.logical_or(yTe == 18, yTe == 33) + 0"
   ]
  },
  {
   "cell_type": "code",
   "execution_count": 21,
   "metadata": {
    "collapsed": true
   },
   "outputs": [],
   "source": [
    "model = Sequential([\n",
    "        Conv2D(128, (3,50), activation='relu', input_shape=(3,300,1), padding='same'),\n",
    "        Conv2D(128, (3,30), activation='relu', padding='same'),\n",
    "        Conv2D(128, (3,3), activation='relu', padding='same'),\n",
    "        MaxPooling2D(pool_size=(3,10)),\n",
    "        Flatten(),\n",
    "        Dense(512, activation='relu'),\n",
    "        Dropout(0.5),\n",
    "        Dense(512, activation='relu'),\n",
    "        Dropout(0.5),\n",
    "        Dense(1, activation='sigmoid')\n",
    "    ])\n",
    "sgd = SGD(lr=0.01, decay=1e-6, momentum=0.9, nesterov=True)\n",
    "model.compile(loss='binary_crossentropy', optimizer=sgd, metrics=['accuracy'])"
   ]
  },
  {
   "cell_type": "code",
   "execution_count": 24,
   "metadata": {
    "scrolled": true
   },
   "outputs": [
    {
     "name": "stdout",
     "output_type": "stream",
     "text": [
      "Train on 17522 samples, validate on 4381 samples\n",
      "Epoch 1/2\n",
      "17522/17522 [==============================] - 43s - loss: 0.1022 - acc: 0.9396 - val_loss: 0.1067 - val_acc: 0.9283\n",
      "Epoch 2/2\n",
      "17522/17522 [==============================] - 44s - loss: 0.0959 - acc: 0.9409 - val_loss: 0.0991 - val_acc: 0.9299\n"
     ]
    }
   ],
   "source": [
    "history = model.fit(xTr_conv, yTr_bin, epochs=2, batch_size=128, validation_data=(xTe_conv, yTe_bin))"
   ]
  },
  {
   "cell_type": "code",
   "execution_count": 25,
   "metadata": {},
   "outputs": [
    {
     "data": {
      "image/png": "[encoded data removed]",
      "text/plain": [
       "<matplotlib.figure.Figure at 0x7f048dd84240>"
      ]
     },
     "metadata": {},
     "output_type": "display_data"
    },
    {
     "data": {
      "image/png": "[encoded data removed]",
      "text/plain": [
       "<matplotlib.figure.Figure at 0x7f048fa2b2e8>"
      ]
     },
     "metadata": {},
     "output_type": "display_data"
    }
   ],
   "source": [
    "plt.plot(history.history['acc'])\n",
    "plt.title('accuracy')\n",
    "plt.show()\n",
    "plt.plot(history.history['loss'])\n",
    "plt.title('loss')\n",
    "plt.show()"
   ]
  },
  {
   "cell_type": "code",
   "execution_count": null,
   "metadata": {
    "collapsed": true
   },
   "outputs": [],
   "source": []
  }
 ],
 "metadata": {
  "kernelspec": {
   "display_name": "Python 3",
   "language": "python",
   "name": "python3"
  },
  "language_info": {
   "codemirror_mode": {
    "name": "ipython",
    "version": 3
   },
   "file_extension": ".py",
   "mimetype": "text/x-python",
   "name": "python",
   "nbconvert_exporter": "python",
   "pygments_lexer": "ipython3",
   "version": "3.5.3"
  }
 },
 "nbformat": 4,
 "nbformat_minor": 1
}
