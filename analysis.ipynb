{
 "cells": [
  {
   "cell_type": "code",
   "execution_count": 6,
   "metadata": {},
   "outputs": [],
   "source": [
    "import numpy as np\n",
    "import matplotlib.pyplot as plt\n",
    "import pandas as pd\n",
    "import os, re, sys\n",
    "\n",
    "# sklearn stuff\n",
    "from sklearn.linear_model import LogisticRegression\n",
    "from sklearn.model_selection import train_test_split\n",
    "from sklearn.decomposition import PCA\n",
    "from sklearn.preprocessing import StandardScaler\n",
    "from sklearn.metrics import confusion_matrix\n",
    "from sklearn.externals import joblib\n",
    "\n",
    "# keras stuff\n",
    "import keras\n",
    "from keras.models import Sequential\n",
    "from keras.layers import Dense, Activation, Dropout, Conv2D, MaxPooling2D, Flatten\n",
    "from keras.optimizers import SGD\n",
    "from keras.metrics import binary_accuracy\n",
    "from keras import callbacks\n",
    "\n",
    "# scipy stuff\n",
    "from scipy.interpolate import interp1d\n",
    "\n",
    "%matplotlib inline"
   ]
  },
  {
   "cell_type": "markdown",
   "metadata": {},
   "source": [
    "Things to consider:\n",
    "\n",
    "- use multiple steps instead of one per training example\n",
    "- use LSTM instead of ConvNet"
   ]
  },
  {
   "cell_type": "markdown",
   "metadata": {},
   "source": [
    "# Load data"
   ]
  },
  {
   "cell_type": "code",
   "execution_count": 77,
   "metadata": {},
   "outputs": [],
   "source": [
    "data = pd.read_pickle('./Data/processed/full.pickle')"
   ]
  },
  {
   "cell_type": "code",
   "execution_count": 78,
   "metadata": {
    "collapsed": true
   },
   "outputs": [],
   "source": [
    "labels = np.load('./Data/processed/labels.npy')"
   ]
  },
  {
   "cell_type": "markdown",
   "metadata": {},
   "source": [
    "# Split and scale data, convert to 0 indexing"
   ]
  },
  {
   "cell_type": "code",
   "execution_count": 79,
   "metadata": {
    "collapsed": true
   },
   "outputs": [],
   "source": [
    "xTr, xTe, yTr, yTe = train_test_split(data.values, labels, test_size=0.2)\n",
    "num_classes = int(labels.max())\n",
    "ss = StandardScaler()\n",
    "xTr = ss.fit_transform(xTr)\n",
    "xTe = ss.transform(xTe)\n",
    "yTr = np.mod(yTr, num_classes)\n",
    "yTe = np.mod(yTe, num_classes)"
   ]
  },
  {
   "cell_type": "markdown",
   "metadata": {},
   "source": [
    "### Convert labels to categorical"
   ]
  },
  {
   "cell_type": "code",
   "execution_count": 68,
   "metadata": {},
   "outputs": [],
   "source": [
    "yTr_cat = keras.utils.to_categorical(yTr, num_classes=num_classes)\n",
    "yTe_cat = keras.utils.to_categorical(yTe, num_classes=num_classes)"
   ]
  },
  {
   "cell_type": "markdown",
   "metadata": {},
   "source": [
    "# Simple linear model"
   ]
  },
  {
   "cell_type": "code",
   "execution_count": null,
   "metadata": {
    "collapsed": true
   },
   "outputs": [],
   "source": [
    "lr_fname = './Data/processed/lr_trained.pkl'\n",
    "if os.path.isfile(lr_fname):\n",
    "    lr = joblib.load(lr_fname)\n",
    "else:\n",
    "    lr = LogisticRegression(verbose=1, n_jobs=-1)\n",
    "    lr.fit(xTr, yTr)"
   ]
  },
  {
   "cell_type": "code",
   "execution_count": null,
   "metadata": {
    "collapsed": true
   },
   "outputs": [],
   "source": [
    "lr.score(xTe, yTe)"
   ]
  },
  {
   "cell_type": "code",
   "execution_count": null,
   "metadata": {
    "collapsed": true,
    "scrolled": true
   },
   "outputs": [],
   "source": [
    "ctr = 0\n",
    "for a,b in zip(lr.predict(xTe), yTe):\n",
    "    if a == b:\n",
    "        print(a,b)\n",
    "    else:\n",
    "        print(a,b,'FAIL')\n",
    "    \n",
    "    ctr += 1\n",
    "    if ctr > 100:\n",
    "        break"
   ]
  },
  {
   "cell_type": "code",
   "execution_count": null,
   "metadata": {
    "collapsed": true
   },
   "outputs": [],
   "source": [
    "a = confusion_matrix(lr.predict(xTe), yTe)\n",
    "plt.figure(figsize=(6,6))\n",
    "plt.imshow(a/a.sum(axis=0), cmap='hot', interpolation='nearest')\n",
    "plt.colorbar()\n",
    "plt.show()"
   ]
  },
  {
   "cell_type": "code",
   "execution_count": null,
   "metadata": {
    "collapsed": true
   },
   "outputs": [],
   "source": [
    "joblib.dump(lr, lr_fname)"
   ]
  },
  {
   "cell_type": "markdown",
   "metadata": {},
   "source": [
    "# Neural Networks"
   ]
  },
  {
   "cell_type": "markdown",
   "metadata": {},
   "source": [
    "## Fully connected"
   ]
  },
  {
   "cell_type": "code",
   "execution_count": null,
   "metadata": {
    "collapsed": true
   },
   "outputs": [],
   "source": [
    "model = Sequential([\n",
    "        Dense(512, input_dim=900, activation='relu'),\n",
    "        Dropout(0.5),\n",
    "        Dense(512, activation='relu'),\n",
    "        Dropout(0.5),\n",
    "        Dense(256, activation='relu'),\n",
    "        Dropout(0.5),\n",
    "        Dense(128, activation='relu'),\n",
    "        Dropout(0.5),\n",
    "        Dense(50, activation='softmax')\n",
    "    ])\n",
    "sgd = SGD(lr=0.01, decay=1e-6, momentum=0.9, nesterov=True)\n",
    "model.compile(loss='categorical_crossentropy', optimizer='rmsprop', metrics=['accuracy'])"
   ]
  },
  {
   "cell_type": "code",
   "execution_count": null,
   "metadata": {
    "collapsed": true,
    "scrolled": true
   },
   "outputs": [],
   "source": [
    "history = model.fit(xTr, yTr_cat, epochs=50, batch_size=128, verbose=1)"
   ]
  },
  {
   "cell_type": "code",
   "execution_count": null,
   "metadata": {
    "collapsed": true
   },
   "outputs": [],
   "source": [
    "preds = model.predict(xTe)"
   ]
  },
  {
   "cell_type": "code",
   "execution_count": null,
   "metadata": {
    "collapsed": true
   },
   "outputs": [],
   "source": [
    "(preds.argmax(axis=1) == yTe).mean()"
   ]
  },
  {
   "cell_type": "code",
   "execution_count": null,
   "metadata": {
    "collapsed": true
   },
   "outputs": [],
   "source": [
    "plt.plot(history.history['acc'])\n",
    "plt.title('accuracy')\n",
    "plt.show()\n",
    "plt.plot(history.history['loss'])\n",
    "plt.title('loss')\n",
    "plt.show()"
   ]
  },
  {
   "cell_type": "markdown",
   "metadata": {},
   "source": [
    "## ConvNet A"
   ]
  },
  {
   "cell_type": "markdown",
   "metadata": {},
   "source": [
    "### All vs All"
   ]
  },
  {
   "cell_type": "code",
   "execution_count": 81,
   "metadata": {
    "collapsed": true
   },
   "outputs": [],
   "source": [
    "xTr_conv = xTr.reshape(-1, 3, 300, 1)\n",
    "xTe_conv = xTe.reshape(-1, 3, 300, 1)"
   ]
  },
  {
   "cell_type": "code",
   "execution_count": null,
   "metadata": {
    "collapsed": true
   },
   "outputs": [],
   "source": [
    "model = Sequential([\n",
    "        Conv2D(128, (3,50), activation='relu', input_shape=(3,300,1), padding='same'),\n",
    "        Conv2D(128, (3,30), activation='relu', padding='same'),\n",
    "        Conv2D(128, (3,10), activation='relu', padding='same'),\n",
    "        Conv2D(128, (3,3), activation='relu', padding='same'),\n",
    "        MaxPooling2D(pool_size=(2,2)),\n",
    "        Flatten(),\n",
    "        Dense(512, activation='relu'),\n",
    "        Dropout(0.5),\n",
    "        Dense(512, activation='relu'),\n",
    "        Dropout(0.5),\n",
    "        Dense(50, activation='softmax')\n",
    "    ])\n",
    "sgd = SGD(lr=0.01, decay=1e-6, momentum=0.9, nesterov=True)\n",
    "model.compile(loss='categorical_crossentropy', optimizer=sgd, metrics=['accuracy'])"
   ]
  },
  {
   "cell_type": "code",
   "execution_count": null,
   "metadata": {
    "collapsed": true,
    "scrolled": false
   },
   "outputs": [],
   "source": [
    "history = model.fit(xTr_conv, yTr_cat, epochs=10, batch_size=128, validation_data=(xTe_conv, yTe_cat))"
   ]
  },
  {
   "cell_type": "code",
   "execution_count": null,
   "metadata": {
    "collapsed": true
   },
   "outputs": [],
   "source": [
    "preds = model.predict(xTe_conv)\n",
    "(preds.argmax(axis=1) == yTe).mean()"
   ]
  },
  {
   "cell_type": "code",
   "execution_count": null,
   "metadata": {
    "collapsed": true
   },
   "outputs": [],
   "source": [
    "plt.plot(history.history['acc'])\n",
    "plt.title('accuracy')\n",
    "plt.show()\n",
    "plt.plot(history.history['loss'])\n",
    "plt.title('loss')\n",
    "plt.show()"
   ]
  },
  {
   "cell_type": "markdown",
   "metadata": {},
   "source": [
    "## ConvNet B"
   ]
  },
  {
   "cell_type": "markdown",
   "metadata": {},
   "source": [
    "### Frank vs Rest"
   ]
  },
  {
   "cell_type": "code",
   "execution_count": 21,
   "metadata": {},
   "outputs": [
    {
     "data": {
      "text/plain": [
       "(31, 7)"
      ]
     },
     "execution_count": 21,
     "metadata": {},
     "output_type": "execute_result"
    }
   ],
   "source": [
    "(yTr == 0).sum(), (yTe == 0).sum()"
   ]
  },
  {
   "cell_type": "code",
   "execution_count": 27,
   "metadata": {},
   "outputs": [],
   "source": [
    "def random_others(labels, target_class):\n",
    "    out = []\n",
    "    ctr = 0\n",
    "    n = (labels == target_class).sum()\n",
    "    for i in range(len(labels)):\n",
    "        if labels[i] == target_class:\n",
    "            out.append(True)\n",
    "        else:\n",
    "            p = 0.5\n",
    "            if np.random.rand() > p and ctr < n:\n",
    "                ctr += 1\n",
    "                out.append(True)\n",
    "            else:\n",
    "                out.append(False)\n",
    "    return np.array(out)"
   ]
  },
  {
   "cell_type": "code",
   "execution_count": 82,
   "metadata": {},
   "outputs": [],
   "source": [
    "tr_idx = random_others(yTr, 0)\n",
    "te_idx = random_others(yTe, 0)"
   ]
  },
  {
   "cell_type": "markdown",
   "metadata": {},
   "source": [
    "binarize"
   ]
  },
  {
   "cell_type": "code",
   "execution_count": 83,
   "metadata": {
    "collapsed": true
   },
   "outputs": [],
   "source": [
    "conditionB = lambda y: y == 0\n",
    "yTr_bin = conditionB(yTr[tr_idx]) + 0\n",
    "yTe_bin = conditionB(yTe[te_idx]) + 0"
   ]
  },
  {
   "cell_type": "code",
   "execution_count": 84,
   "metadata": {
    "collapsed": true
   },
   "outputs": [],
   "source": [
    "model = Sequential([\n",
    "        Conv2D(128, (3,50), activation='relu', input_shape=(3,300,1), padding='same'),\n",
    "        Conv2D(128, (3,30), activation='relu', padding='same'),\n",
    "        Conv2D(128, (3,3), activation='relu', padding='same'),\n",
    "        MaxPooling2D(pool_size=(3,10)),\n",
    "        Flatten(),\n",
    "        Dense(512, activation='relu'),\n",
    "        Dropout(0.5),\n",
    "        Dense(512, activation='relu'),\n",
    "        Dropout(0.5),\n",
    "        Dense(1, activation='sigmoid')\n",
    "    ])\n",
    "sgd = SGD(lr=0.01, decay=1e-6, momentum=0.9, nesterov=True)\n",
    "model.compile(loss='binary_crossentropy', optimizer=sgd, metrics=['accuracy'])"
   ]
  },
  {
   "cell_type": "code",
   "execution_count": 89,
   "metadata": {
    "scrolled": true
   },
   "outputs": [
    {
     "name": "stdout",
     "output_type": "stream",
     "text": [
      "Train on 34 samples, validate on 8 samples\n",
      "Epoch 1/4\n",
      "34/34 [==============================] - 0s - loss: 0.2575 - acc: 1.0000 - val_loss: 0.2209 - val_acc: 1.0000\n",
      "Epoch 2/4\n",
      "34/34 [==============================] - 0s - loss: 0.2165 - acc: 0.9412 - val_loss: 0.1669 - val_acc: 1.0000\n",
      "Epoch 3/4\n",
      "34/34 [==============================] - 0s - loss: 0.1917 - acc: 0.9706 - val_loss: 0.1275 - val_acc: 1.0000\n",
      "Epoch 4/4\n",
      "34/34 [==============================] - 0s - loss: 0.1105 - acc: 1.0000 - val_loss: 0.0922 - val_acc: 1.0000\n"
     ]
    }
   ],
   "source": [
    "history = model.fit(xTr_conv[tr_idx, :, :, :],\n",
    "                    yTr_bin,\n",
    "                    epochs=4,\n",
    "                    batch_size=128,\n",
    "                    validation_data=(xTe_conv[te_idx, :, :, :], yTe_bin))"
   ]
  },
  {
   "cell_type": "code",
   "execution_count": 90,
   "metadata": {},
   "outputs": [
    {
     "data": {
      "image/png": "[encoded data removed]",
      "text/plain": [
       "<matplotlib.figure.Figure at 0x7ff58619e7b8>"
      ]
     },
     "metadata": {},
     "output_type": "display_data"
    },
    {
     "data": {
      "image/png": "[encoded data removed]",
      "text/plain": [
       "<matplotlib.figure.Figure at 0x7ff57ce46fd0>"
      ]
     },
     "metadata": {},
     "output_type": "display_data"
    }
   ],
   "source": [
    "plt.plot(history.history['acc'])\n",
    "plt.title('accuracy')\n",
    "plt.show()\n",
    "plt.plot(history.history['loss'])\n",
    "plt.title('loss')\n",
    "plt.show()"
   ]
  },
  {
   "cell_type": "code",
   "execution_count": 91,
   "metadata": {},
   "outputs": [
    {
     "data": {
      "text/plain": [
       "1.0"
      ]
     },
     "execution_count": 91,
     "metadata": {},
     "output_type": "execute_result"
    }
   ],
   "source": [
    "preds = model.predict(xTe_conv[te_idx, :, :, :])\n",
    "(preds.flatten().round() == yTe_bin).mean()"
   ]
  },
  {
   "cell_type": "code",
   "execution_count": 92,
   "metadata": {},
   "outputs": [
    {
     "data": {
      "text/plain": [
       "array([ 0.,  0.,  0.,  0.,  1.,  1.,  1.,  1.], dtype=float32)"
      ]
     },
     "execution_count": 92,
     "metadata": {},
     "output_type": "execute_result"
    }
   ],
   "source": [
    "preds.flatten().round()"
   ]
  },
  {
   "cell_type": "markdown",
   "metadata": {},
   "source": [
    "## ConvNet C"
   ]
  },
  {
   "cell_type": "markdown",
   "metadata": {},
   "source": [
    "### Frank vs Mukund vs Rest"
   ]
  },
  {
   "cell_type": "code",
   "execution_count": 107,
   "metadata": {
    "collapsed": true
   },
   "outputs": [],
   "source": [
    "xTr_conv = xTr.reshape(-1, 3, 300, 1)\n",
    "xTe_conv = xTe.reshape(-1, 3, 300, 1)"
   ]
  },
  {
   "cell_type": "code",
   "execution_count": 96,
   "metadata": {},
   "outputs": [],
   "source": [
    "muk_idx_tr = random_others(yTr, 51)\n",
    "muk_idx_te = random_others(yTe, 51)\n",
    "\n",
    "fra_idx_tr = random_others(yTr, 0)\n",
    "fra_idx_te = random_others(yTe, 0)\n",
    "\n",
    "tr_idx = np.logical_or(muk_idx_tr, fra_idx_tr)\n",
    "te_idx = np.logical_or(muk_idx_te, fra_idx_te)"
   ]
  },
  {
   "cell_type": "code",
   "execution_count": 126,
   "metadata": {},
   "outputs": [],
   "source": [
    "def trinarize(labels, class1, class2):\n",
    "    out = []\n",
    "    for l in labels:\n",
    "        if l == class1:\n",
    "            out.append(1)\n",
    "        elif l == class2:\n",
    "            out.append(2)\n",
    "        else:\n",
    "            out.append(0)\n",
    "    return np.array(out)"
   ]
  },
  {
   "cell_type": "code",
   "execution_count": 103,
   "metadata": {},
   "outputs": [],
   "source": [
    "yTr_tri = trinarize(yTr[tr_idx], 51, 0)\n",
    "yTe_tri = trinarize(yTe[te_idx], 51, 0)"
   ]
  },
  {
   "cell_type": "code",
   "execution_count": 104,
   "metadata": {
    "collapsed": true
   },
   "outputs": [],
   "source": [
    "yTr_cat = keras.utils.to_categorical(yTr_tri, num_classes=3)\n",
    "yTe_cat = keras.utils.to_categorical(yTe_tri, num_classes=3)"
   ]
  },
  {
   "cell_type": "code",
   "execution_count": 119,
   "metadata": {},
   "outputs": [],
   "source": [
    "model = Sequential([\n",
    "        Conv2D(128, (3,50), activation='relu', input_shape=(3,300,1), padding='same'),\n",
    "        Conv2D(128, (3,30), activation='relu', padding='same'),\n",
    "        Conv2D(128, (3,3), activation='relu', padding='same'),\n",
    "        MaxPooling2D(pool_size=(3,10)),\n",
    "        Flatten(),\n",
    "        Dense(512, activation='relu'),\n",
    "        Dropout(0.5),\n",
    "        Dense(512, activation='relu'),\n",
    "        Dropout(0.5),\n",
    "        Dense(3, activation='softmax')\n",
    "    ])\n",
    "sgd = SGD(lr=0.01, decay=1e-6, momentum=0.9, nesterov=True)\n",
    "model.compile(loss='categorical_crossentropy', optimizer=sgd, metrics=['accuracy'])"
   ]
  },
  {
   "cell_type": "code",
   "execution_count": 120,
   "metadata": {},
   "outputs": [
    {
     "name": "stdout",
     "output_type": "stream",
     "text": [
      "Train on 93 samples, validate on 16 samples\n",
      "Epoch 1/30\n",
      "93/93 [==============================] - 0s - loss: 1.0891 - acc: 0.3871 - val_loss: 1.0622 - val_acc: 0.8750\n",
      "Epoch 2/30\n",
      "93/93 [==============================] - 0s - loss: 1.0696 - acc: 0.4624 - val_loss: 1.0371 - val_acc: 0.7500\n",
      "Epoch 3/30\n",
      "93/93 [==============================] - 0s - loss: 1.0401 - acc: 0.5699 - val_loss: 1.0087 - val_acc: 0.6875\n",
      "Epoch 4/30\n",
      "93/93 [==============================] - 0s - loss: 1.0000 - acc: 0.7204 - val_loss: 0.9754 - val_acc: 0.6875\n",
      "Epoch 5/30\n",
      "93/93 [==============================] - 0s - loss: 0.9556 - acc: 0.6989 - val_loss: 0.9341 - val_acc: 0.6875\n",
      "Epoch 6/30\n",
      "93/93 [==============================] - 0s - loss: 0.9211 - acc: 0.7097 - val_loss: 0.8844 - val_acc: 0.6875\n",
      "Epoch 7/30\n",
      "93/93 [==============================] - 0s - loss: 0.8724 - acc: 0.7634 - val_loss: 0.8238 - val_acc: 0.6875\n",
      "Epoch 8/30\n",
      "93/93 [==============================] - 0s - loss: 0.8286 - acc: 0.7419 - val_loss: 0.7485 - val_acc: 0.6875\n",
      "Epoch 9/30\n",
      "93/93 [==============================] - 0s - loss: 0.7118 - acc: 0.8387 - val_loss: 0.6604 - val_acc: 0.7500\n",
      "Epoch 10/30\n",
      "93/93 [==============================] - 0s - loss: 0.6473 - acc: 0.8172 - val_loss: 0.5560 - val_acc: 0.7500\n",
      "Epoch 11/30\n",
      "93/93 [==============================] - 0s - loss: 0.5473 - acc: 0.8710 - val_loss: 0.4518 - val_acc: 0.8125\n",
      "Epoch 12/30\n",
      "93/93 [==============================] - 0s - loss: 0.4546 - acc: 0.8602 - val_loss: 0.3547 - val_acc: 0.9375\n",
      "Epoch 13/30\n",
      "93/93 [==============================] - 0s - loss: 0.4307 - acc: 0.8710 - val_loss: 0.2599 - val_acc: 0.9375\n",
      "Epoch 14/30\n",
      "93/93 [==============================] - 0s - loss: 0.3155 - acc: 0.9247 - val_loss: 0.2030 - val_acc: 0.9375\n",
      "Epoch 15/30\n",
      "93/93 [==============================] - 0s - loss: 0.2367 - acc: 0.9355 - val_loss: 0.1686 - val_acc: 0.9375\n",
      "Epoch 16/30\n",
      "93/93 [==============================] - 0s - loss: 0.2007 - acc: 0.9355 - val_loss: 0.1443 - val_acc: 0.9375\n",
      "Epoch 17/30\n",
      "93/93 [==============================] - 0s - loss: 0.1620 - acc: 0.9677 - val_loss: 0.1309 - val_acc: 0.9375\n",
      "Epoch 18/30\n",
      "93/93 [==============================] - 0s - loss: 0.1685 - acc: 0.9462 - val_loss: 0.1610 - val_acc: 0.9375\n",
      "Epoch 19/30\n",
      "93/93 [==============================] - 0s - loss: 0.1565 - acc: 0.9677 - val_loss: 0.0688 - val_acc: 0.9375\n",
      "Epoch 20/30\n",
      "93/93 [==============================] - 0s - loss: 0.1423 - acc: 0.9247 - val_loss: 0.0356 - val_acc: 1.0000\n",
      "Epoch 21/30\n",
      "93/93 [==============================] - 0s - loss: 0.1515 - acc: 0.9462 - val_loss: 0.0478 - val_acc: 1.0000\n",
      "Epoch 22/30\n",
      "93/93 [==============================] - 0s - loss: 0.0753 - acc: 0.9677 - val_loss: 0.0104 - val_acc: 1.0000\n",
      "Epoch 23/30\n",
      "93/93 [==============================] - 0s - loss: 0.0709 - acc: 0.9785 - val_loss: 0.0025 - val_acc: 1.0000\n",
      "Epoch 24/30\n",
      "93/93 [==============================] - 0s - loss: 0.0759 - acc: 0.9677 - val_loss: 0.0013 - val_acc: 1.0000\n",
      "Epoch 25/30\n",
      "93/93 [==============================] - 0s - loss: 0.0807 - acc: 0.9677 - val_loss: 0.0012 - val_acc: 1.0000\n",
      "Epoch 26/30\n",
      "93/93 [==============================] - 0s - loss: 0.0472 - acc: 0.9785 - val_loss: 8.2900e-04 - val_acc: 1.0000\n",
      "Epoch 27/30\n",
      "93/93 [==============================] - 0s - loss: 0.0376 - acc: 0.9892 - val_loss: 0.0012 - val_acc: 1.0000\n",
      "Epoch 28/30\n",
      "93/93 [==============================] - 0s - loss: 0.1326 - acc: 0.9462 - val_loss: 0.0036 - val_acc: 1.0000\n",
      "Epoch 29/30\n",
      "93/93 [==============================] - 0s - loss: 0.0899 - acc: 0.9570 - val_loss: 0.0042 - val_acc: 1.0000\n",
      "Epoch 30/30\n",
      "93/93 [==============================] - 0s - loss: 0.0272 - acc: 1.0000 - val_loss: 0.0029 - val_acc: 1.0000\n"
     ]
    }
   ],
   "source": [
    "history = model.fit(xTr_conv[tr_idx,:,:,:],\n",
    "                    yTr_cat,\n",
    "                    epochs=30,\n",
    "                    batch_size=128,\n",
    "                    validation_data=(xTe_conv[te_idx,:,:,:], yTe_cat))"
   ]
  },
  {
   "cell_type": "code",
   "execution_count": 121,
   "metadata": {},
   "outputs": [
    {
     "data": {
      "image/png": "[encoded data removed]",
      "text/plain": [
       "<matplotlib.figure.Figure at 0x7ff57b46b1d0>"
      ]
     },
     "metadata": {},
     "output_type": "display_data"
    },
    {
     "data": {
      "image/png": "[encoded data removed]",
      "text/plain": [
       "<matplotlib.figure.Figure at 0x7ff58619e748>"
      ]
     },
     "metadata": {},
     "output_type": "display_data"
    }
   ],
   "source": [
    "plt.plot(history.history['acc'])\n",
    "plt.title('accuracy')\n",
    "plt.show()\n",
    "plt.plot(history.history['loss'])\n",
    "plt.title('loss')\n",
    "plt.show()"
   ]
  },
  {
   "cell_type": "code",
   "execution_count": 123,
   "metadata": {},
   "outputs": [
    {
     "data": {
      "text/plain": [
       "1.0"
      ]
     },
     "execution_count": 123,
     "metadata": {},
     "output_type": "execute_result"
    }
   ],
   "source": [
    "preds = model.predict(xTe_conv[te_idx, :, :, :])\n",
    "(yTe_cat == preds.round()).mean()"
   ]
  },
  {
   "cell_type": "code",
   "execution_count": null,
   "metadata": {
    "collapsed": true
   },
   "outputs": [],
   "source": []
  }
 ],
 "metadata": {
  "kernelspec": {
   "display_name": "Python 3",
   "language": "python",
   "name": "python3"
  },
  "language_info": {
   "codemirror_mode": {
    "name": "ipython",
    "version": 3
   },
   "file_extension": ".py",
   "mimetype": "text/x-python",
   "name": "python",
   "nbconvert_exporter": "python",
   "pygments_lexer": "ipython3",
   "version": "3.5.3"
  }
 },
 "nbformat": 4,
 "nbformat_minor": 1
}
