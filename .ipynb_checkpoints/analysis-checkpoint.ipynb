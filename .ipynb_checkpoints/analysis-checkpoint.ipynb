{
 "cells": [
  {
   "cell_type": "code",
   "execution_count": 19,
   "metadata": {},
   "outputs": [],
   "source": [
    "import numpy as np\n",
    "import matplotlib.pyplot as plt\n",
    "import pandas as pd\n",
    "import os, re, sys\n",
    "\n",
    "# sklearn stuff\n",
    "from sklearn.linear_model import LogisticRegression\n",
    "from sklearn.model_selection import train_test_split\n",
    "from sklearn.decomposition import PCA\n",
    "from sklearn.preprocessing import StandardScaler\n",
    "from sklearn.metrics import confusion_matrix, f1_score\n",
    "from sklearn.externals import joblib\n",
    "\n",
    "# keras stuff\n",
    "import keras\n",
    "from keras.models import Sequential\n",
    "from keras.layers import Dense, Activation, Dropout, Conv2D, MaxPooling2D, Flatten\n",
    "from keras.optimizers import SGD\n",
    "from keras.metrics import binary_accuracy\n",
    "from keras import callbacks\n",
    "\n",
    "# scipy stuff\n",
    "from scipy.interpolate import interp1d\n",
    "\n",
    "from preprocessingTR import *\n",
    "\n",
    "%matplotlib inline"
   ]
  },
  {
   "cell_type": "markdown",
   "metadata": {},
   "source": [
    "Things to consider:\n",
    "\n",
    "- use multiple steps instead of one per training example\n",
    "- use LSTM instead of ConvNet"
   ]
  },
  {
   "cell_type": "markdown",
   "metadata": {},
   "source": [
    "# Load data"
   ]
  },
  {
   "cell_type": "code",
   "execution_count": 3,
   "metadata": {
    "collapsed": true
   },
   "outputs": [],
   "source": [
    "data = pd.read_pickle('./Data/processed/full.pickle')"
   ]
  },
  {
   "cell_type": "code",
   "execution_count": 4,
   "metadata": {
    "collapsed": true
   },
   "outputs": [],
   "source": [
    "labels = np.load('./Data/processed/labels.npy')"
   ]
  },
  {
   "cell_type": "markdown",
   "metadata": {},
   "source": [
    "# Split and scale data, convert to 0 indexing"
   ]
  },
  {
   "cell_type": "code",
   "execution_count": 5,
   "metadata": {
    "collapsed": true
   },
   "outputs": [],
   "source": [
    "xTr, xTe, yTr, yTe = train_test_split(data.values, labels, test_size=0.2)\n",
    "num_classes = int(labels.max())\n",
    "ss = StandardScaler()\n",
    "xTr = ss.fit_transform(xTr)\n",
    "xTe = ss.transform(xTe)\n",
    "yTr = np.mod(yTr, num_classes)\n",
    "yTe = np.mod(yTe, num_classes)"
   ]
  },
  {
   "cell_type": "markdown",
   "metadata": {},
   "source": [
    "### Convert labels to categorical"
   ]
  },
  {
   "cell_type": "code",
   "execution_count": 6,
   "metadata": {
    "collapsed": true
   },
   "outputs": [],
   "source": [
    "yTr_cat = keras.utils.to_categorical(yTr, num_classes=num_classes)\n",
    "yTe_cat = keras.utils.to_categorical(yTe, num_classes=num_classes)"
   ]
  },
  {
   "cell_type": "markdown",
   "metadata": {},
   "source": [
    "# Simple linear model"
   ]
  },
  {
   "cell_type": "code",
   "execution_count": null,
   "metadata": {
    "collapsed": true
   },
   "outputs": [],
   "source": [
    "lr_fname = './Data/processed/lr_trained.pkl'\n",
    "if os.path.isfile(lr_fname):\n",
    "    lr = joblib.load(lr_fname)\n",
    "else:\n",
    "    lr = LogisticRegression(verbose=1, n_jobs=-1)\n",
    "    lr.fit(xTr, yTr)"
   ]
  },
  {
   "cell_type": "code",
   "execution_count": null,
   "metadata": {
    "collapsed": true
   },
   "outputs": [],
   "source": [
    "lr.score(xTe, yTe)"
   ]
  },
  {
   "cell_type": "code",
   "execution_count": null,
   "metadata": {
    "collapsed": true,
    "scrolled": true
   },
   "outputs": [],
   "source": [
    "ctr = 0\n",
    "for a,b in zip(lr.predict(xTe), yTe):\n",
    "    if a == b:\n",
    "        print(a,b)\n",
    "    else:\n",
    "        print(a,b,'FAIL')\n",
    "    \n",
    "    ctr += 1\n",
    "    if ctr > 100:\n",
    "        break"
   ]
  },
  {
   "cell_type": "code",
   "execution_count": null,
   "metadata": {
    "collapsed": true
   },
   "outputs": [],
   "source": [
    "a = confusion_matrix(lr.predict(xTe), yTe)\n",
    "plt.figure(figsize=(6,6))\n",
    "plt.imshow(a/a.sum(axis=0), cmap='hot', interpolation='nearest')\n",
    "plt.colorbar()\n",
    "plt.show()"
   ]
  },
  {
   "cell_type": "code",
   "execution_count": null,
   "metadata": {
    "collapsed": true
   },
   "outputs": [],
   "source": [
    "joblib.dump(lr, lr_fname)"
   ]
  },
  {
   "cell_type": "markdown",
   "metadata": {},
   "source": [
    "# Neural Networks"
   ]
  },
  {
   "cell_type": "markdown",
   "metadata": {},
   "source": [
    "## Fully connected"
   ]
  },
  {
   "cell_type": "code",
   "execution_count": null,
   "metadata": {
    "collapsed": true
   },
   "outputs": [],
   "source": [
    "model = Sequential([\n",
    "        Dense(512, input_dim=900, activation='relu'),\n",
    "        Dropout(0.5),\n",
    "        Dense(512, activation='relu'),\n",
    "        Dropout(0.5),\n",
    "        Dense(256, activation='relu'),\n",
    "        Dropout(0.5),\n",
    "        Dense(128, activation='relu'),\n",
    "        Dropout(0.5),\n",
    "        Dense(50, activation='softmax')\n",
    "    ])\n",
    "sgd = SGD(lr=0.01, decay=1e-6, momentum=0.9, nesterov=True)\n",
    "model.compile(loss='categorical_crossentropy', optimizer='rmsprop', metrics=['accuracy'])"
   ]
  },
  {
   "cell_type": "code",
   "execution_count": null,
   "metadata": {
    "collapsed": true,
    "scrolled": true
   },
   "outputs": [],
   "source": [
    "history = model.fit(xTr, yTr_cat, epochs=50, batch_size=128, verbose=1)"
   ]
  },
  {
   "cell_type": "code",
   "execution_count": null,
   "metadata": {
    "collapsed": true
   },
   "outputs": [],
   "source": [
    "preds = model.predict(xTe)"
   ]
  },
  {
   "cell_type": "code",
   "execution_count": null,
   "metadata": {
    "collapsed": true
   },
   "outputs": [],
   "source": [
    "(preds.argmax(axis=1) == yTe).mean()"
   ]
  },
  {
   "cell_type": "code",
   "execution_count": null,
   "metadata": {
    "collapsed": true
   },
   "outputs": [],
   "source": [
    "plt.plot(history.history['acc'])\n",
    "plt.title('accuracy')\n",
    "plt.show()\n",
    "plt.plot(history.history['loss'])\n",
    "plt.title('loss')\n",
    "plt.show()"
   ]
  },
  {
   "cell_type": "markdown",
   "metadata": {},
   "source": [
    "## ConvNet A"
   ]
  },
  {
   "cell_type": "markdown",
   "metadata": {},
   "source": [
    "### All vs All"
   ]
  },
  {
   "cell_type": "code",
   "execution_count": 7,
   "metadata": {
    "collapsed": true
   },
   "outputs": [],
   "source": [
    "xTr_conv = xTr.reshape(-1, 3, 300, 1)\n",
    "xTe_conv = xTe.reshape(-1, 3, 300, 1)"
   ]
  },
  {
   "cell_type": "code",
   "execution_count": null,
   "metadata": {
    "collapsed": true
   },
   "outputs": [],
   "source": [
    "model = Sequential([\n",
    "        Conv2D(128, (3,50), activation='relu', input_shape=(3,300,1), padding='same'),\n",
    "        Conv2D(128, (3,30), activation='relu', padding='same'),\n",
    "        Conv2D(128, (3,10), activation='relu', padding='same'),\n",
    "        Conv2D(128, (3,3), activation='relu', padding='same'),\n",
    "        MaxPooling2D(pool_size=(2,2)),\n",
    "        Flatten(),\n",
    "        Dense(512, activation='relu'),\n",
    "        Dropout(0.5),\n",
    "        Dense(512, activation='relu'),\n",
    "        Dropout(0.5),\n",
    "        Dense(50, activation='softmax')\n",
    "    ])\n",
    "sgd = SGD(lr=0.01, decay=1e-6, momentum=0.9, nesterov=True)\n",
    "model.compile(loss='categorical_crossentropy', optimizer=sgd, metrics=['accuracy'])"
   ]
  },
  {
   "cell_type": "code",
   "execution_count": null,
   "metadata": {
    "collapsed": true,
    "scrolled": false
   },
   "outputs": [],
   "source": [
    "history = model.fit(xTr_conv, yTr_cat, epochs=10, batch_size=128, validation_data=(xTe_conv, yTe_cat))"
   ]
  },
  {
   "cell_type": "code",
   "execution_count": null,
   "metadata": {
    "collapsed": true
   },
   "outputs": [],
   "source": [
    "preds = model.predict(xTe_conv)\n",
    "(preds.argmax(axis=1) == yTe).mean()"
   ]
  },
  {
   "cell_type": "code",
   "execution_count": null,
   "metadata": {
    "collapsed": true
   },
   "outputs": [],
   "source": [
    "plt.plot(history.history['acc'])\n",
    "plt.title('accuracy')\n",
    "plt.show()\n",
    "plt.plot(history.history['loss'])\n",
    "plt.title('loss')\n",
    "plt.show()"
   ]
  },
  {
   "cell_type": "markdown",
   "metadata": {},
   "source": [
    "## ConvNet B"
   ]
  },
  {
   "cell_type": "markdown",
   "metadata": {},
   "source": [
    "### Frank vs Rest"
   ]
  },
  {
   "cell_type": "code",
   "execution_count": 21,
   "metadata": {},
   "outputs": [
    {
     "data": {
      "text/plain": [
       "(31, 7)"
      ]
     },
     "execution_count": 21,
     "metadata": {},
     "output_type": "execute_result"
    }
   ],
   "source": [
    "(yTr == 0).sum(), (yTe == 0).sum()"
   ]
  },
  {
   "cell_type": "code",
   "execution_count": 27,
   "metadata": {
    "collapsed": true
   },
   "outputs": [],
   "source": [
    "def random_others(labels, target_class):\n",
    "    out = []\n",
    "    ctr = 0\n",
    "    n = (labels == target_class).sum()\n",
    "    for i in range(len(labels)):\n",
    "        if labels[i] == target_class:\n",
    "            out.append(True)\n",
    "        else:\n",
    "            p = 0.5\n",
    "            if np.random.rand() > p and ctr < n:\n",
    "                ctr += 1\n",
    "                out.append(True)\n",
    "            else:\n",
    "                out.append(False)\n",
    "    return np.array(out)"
   ]
  },
  {
   "cell_type": "code",
   "execution_count": 82,
   "metadata": {
    "collapsed": true
   },
   "outputs": [],
   "source": [
    "tr_idx = random_others(yTr, 0)\n",
    "te_idx = random_others(yTe, 0)"
   ]
  },
  {
   "cell_type": "markdown",
   "metadata": {},
   "source": [
    "binarize"
   ]
  },
  {
   "cell_type": "code",
   "execution_count": 83,
   "metadata": {
    "collapsed": true
   },
   "outputs": [],
   "source": [
    "conditionB = lambda y: y == 0\n",
    "yTr_bin = conditionB(yTr[tr_idx]) + 0\n",
    "yTe_bin = conditionB(yTe[te_idx]) + 0"
   ]
  },
  {
   "cell_type": "code",
   "execution_count": 84,
   "metadata": {
    "collapsed": true
   },
   "outputs": [],
   "source": [
    "model = Sequential([\n",
    "        Conv2D(128, (3,50), activation='relu', input_shape=(3,300,1), padding='same'),\n",
    "        Conv2D(128, (3,30), activation='relu', padding='same'),\n",
    "        Conv2D(128, (3,3), activation='relu', padding='same'),\n",
    "        MaxPooling2D(pool_size=(3,10)),\n",
    "        Flatten(),\n",
    "        Dense(512, activation='relu'),\n",
    "        Dropout(0.5),\n",
    "        Dense(512, activation='relu'),\n",
    "        Dropout(0.5),\n",
    "        Dense(1, activation='sigmoid')\n",
    "    ])\n",
    "sgd = SGD(lr=0.01, decay=1e-6, momentum=0.9, nesterov=True)\n",
    "model.compile(loss='binary_crossentropy', optimizer=sgd, metrics=['accuracy'])"
   ]
  },
  {
   "cell_type": "code",
   "execution_count": 89,
   "metadata": {
    "scrolled": true
   },
   "outputs": [
    {
     "name": "stdout",
     "output_type": "stream",
     "text": [
      "Train on 34 samples, validate on 8 samples\n",
      "Epoch 1/4\n",
      "34/34 [==============================] - 0s - loss: 0.2575 - acc: 1.0000 - val_loss: 0.2209 - val_acc: 1.0000\n",
      "Epoch 2/4\n",
      "34/34 [==============================] - 0s - loss: 0.2165 - acc: 0.9412 - val_loss: 0.1669 - val_acc: 1.0000\n",
      "Epoch 3/4\n",
      "34/34 [==============================] - 0s - loss: 0.1917 - acc: 0.9706 - val_loss: 0.1275 - val_acc: 1.0000\n",
      "Epoch 4/4\n",
      "34/34 [==============================] - 0s - loss: 0.1105 - acc: 1.0000 - val_loss: 0.0922 - val_acc: 1.0000\n"
     ]
    }
   ],
   "source": [
    "history = model.fit(xTr_conv[tr_idx, :, :, :],\n",
    "                    yTr_bin,\n",
    "                    epochs=4,\n",
    "                    batch_size=128,\n",
    "                    validation_data=(xTe_conv[te_idx, :, :, :], yTe_bin))"
   ]
  },
  {
   "cell_type": "code",
   "execution_count": 90,
   "metadata": {},
   "outputs": [
    {
     "data": {
      "image/png": "[encoded data removed]",
      "text/plain": [
       "<matplotlib.figure.Figure at 0x7ff58619e7b8>"
      ]
     },
     "metadata": {},
     "output_type": "display_data"
    },
    {
     "data": {
      "image/png": "[encoded data removed]",
      "text/plain": [
       "<matplotlib.figure.Figure at 0x7ff57ce46fd0>"
      ]
     },
     "metadata": {},
     "output_type": "display_data"
    }
   ],
   "source": [
    "plt.plot(history.history['acc'])\n",
    "plt.title('accuracy')\n",
    "plt.show()\n",
    "plt.plot(history.history['loss'])\n",
    "plt.title('loss')\n",
    "plt.show()"
   ]
  },
  {
   "cell_type": "code",
   "execution_count": 91,
   "metadata": {},
   "outputs": [
    {
     "data": {
      "text/plain": [
       "1.0"
      ]
     },
     "execution_count": 91,
     "metadata": {},
     "output_type": "execute_result"
    }
   ],
   "source": [
    "preds = model.predict(xTe_conv[te_idx, :, :, :])\n",
    "(preds.flatten().round() == yTe_bin).mean()"
   ]
  },
  {
   "cell_type": "code",
   "execution_count": 92,
   "metadata": {},
   "outputs": [
    {
     "data": {
      "text/plain": [
       "array([ 0.,  0.,  0.,  0.,  1.,  1.,  1.,  1.], dtype=float32)"
      ]
     },
     "execution_count": 92,
     "metadata": {},
     "output_type": "execute_result"
    }
   ],
   "source": [
    "preds.flatten().round()"
   ]
  },
  {
   "cell_type": "markdown",
   "metadata": {},
   "source": [
    "## ConvNet C"
   ]
  },
  {
   "cell_type": "markdown",
   "metadata": {},
   "source": [
    "### Frank vs Mukund vs Rest"
   ]
  },
  {
   "cell_type": "code",
   "execution_count": 12,
   "metadata": {
    "collapsed": true
   },
   "outputs": [],
   "source": [
    "def random_others(labels, target_class):\n",
    "    out = []\n",
    "    ctr = 0\n",
    "    n = 2*(labels == target_class).sum()\n",
    "    for i in range(len(labels)):\n",
    "        if labels[i] == target_class:\n",
    "            out.append(True)\n",
    "        else:\n",
    "            p = 0.5\n",
    "            if np.random.rand() > p and ctr < n:\n",
    "                ctr += 1\n",
    "                out.append(True)\n",
    "            else:\n",
    "                out.append(False)\n",
    "    return np.array(out)"
   ]
  },
  {
   "cell_type": "code",
   "execution_count": 8,
   "metadata": {
    "collapsed": true
   },
   "outputs": [],
   "source": [
    "xTr_conv = xTr.reshape(-1, 3, 300, 1)\n",
    "xTe_conv = xTe.reshape(-1, 3, 300, 1)"
   ]
  },
  {
   "cell_type": "code",
   "execution_count": 13,
   "metadata": {},
   "outputs": [],
   "source": [
    "muk_idx_tr = random_others(yTr, 51)\n",
    "muk_idx_te = random_others(yTe, 51)\n",
    "\n",
    "fra_idx_tr = random_others(yTr, 0)\n",
    "fra_idx_te = random_others(yTe, 0)\n",
    "\n",
    "tr_idx = np.logical_or(muk_idx_tr, fra_idx_tr)\n",
    "te_idx = np.logical_or(muk_idx_te, fra_idx_te)"
   ]
  },
  {
   "cell_type": "code",
   "execution_count": 14,
   "metadata": {
    "collapsed": true
   },
   "outputs": [],
   "source": [
    "def trinarize(labels, class1, class2):\n",
    "    out = []\n",
    "    for l in labels:\n",
    "        if l == class1:\n",
    "            out.append(1)\n",
    "        elif l == class2:\n",
    "            out.append(2)\n",
    "        else:\n",
    "            out.append(0)\n",
    "    return np.array(out)"
   ]
  },
  {
   "cell_type": "code",
   "execution_count": 15,
   "metadata": {
    "collapsed": true
   },
   "outputs": [],
   "source": [
    "yTr_tri = trinarize(yTr[tr_idx], 51, 0)\n",
    "yTe_tri = trinarize(yTe[te_idx], 51, 0)"
   ]
  },
  {
   "cell_type": "code",
   "execution_count": 16,
   "metadata": {
    "collapsed": true
   },
   "outputs": [],
   "source": [
    "yTr_cat = keras.utils.to_categorical(yTr_tri, num_classes=3)\n",
    "yTe_cat = keras.utils.to_categorical(yTe_tri, num_classes=3)"
   ]
  },
  {
   "cell_type": "code",
   "execution_count": 17,
   "metadata": {
    "collapsed": true
   },
   "outputs": [],
   "source": [
    "model = Sequential([\n",
    "        Conv2D(128, (3,50), activation='relu', input_shape=(3,300,1), padding='same'),\n",
    "        Conv2D(128, (3,30), activation='relu', padding='same'),\n",
    "        Conv2D(128, (3,3), activation='relu', padding='same'),\n",
    "        MaxPooling2D(pool_size=(3,10)),\n",
    "        Flatten(),\n",
    "        Dense(512, activation='relu'),\n",
    "        Dropout(0.5),\n",
    "        Dense(512, activation='relu'),\n",
    "        Dropout(0.5),\n",
    "        Dense(3, activation='softmax')\n",
    "    ])\n",
    "sgd = SGD(lr=0.01, decay=1e-6, momentum=0.9, nesterov=True)\n",
    "model.compile(loss='categorical_crossentropy', optimizer=sgd, metrics=['accuracy'])"
   ]
  },
  {
   "cell_type": "code",
   "execution_count": 18,
   "metadata": {},
   "outputs": [
    {
     "name": "stdout",
     "output_type": "stream",
     "text": [
      "Train on 1146 samples, validate on 267 samples\n",
      "Epoch 1/30\n",
      "1146/1146 [==============================] - 6s - loss: 0.8921 - acc: 0.6222 - val_loss: 0.6322 - val_acc: 0.6667\n",
      "Epoch 2/30\n",
      "1146/1146 [==============================] - 5s - loss: 0.6057 - acc: 0.7103 - val_loss: 0.4567 - val_acc: 0.8502\n",
      "Epoch 3/30\n",
      "1146/1146 [==============================] - 5s - loss: 0.4788 - acc: 0.7914 - val_loss: 0.3755 - val_acc: 0.8989\n",
      "Epoch 4/30\n",
      "1146/1146 [==============================] - 5s - loss: 0.3783 - acc: 0.8613 - val_loss: 0.3169 - val_acc: 0.9176\n",
      "Epoch 5/30\n",
      "1146/1146 [==============================] - 5s - loss: 0.3036 - acc: 0.9023 - val_loss: 0.2673 - val_acc: 0.9176\n",
      "Epoch 6/30\n",
      "1146/1146 [==============================] - 5s - loss: 0.2626 - acc: 0.9110 - val_loss: 0.2334 - val_acc: 0.9064\n",
      "Epoch 7/30\n",
      "1146/1146 [==============================] - 5s - loss: 0.2160 - acc: 0.9311 - val_loss: 0.1770 - val_acc: 0.9251\n",
      "Epoch 8/30\n",
      "1146/1146 [==============================] - 5s - loss: 0.1610 - acc: 0.9459 - val_loss: 0.1343 - val_acc: 0.9551\n",
      "Epoch 9/30\n",
      "1146/1146 [==============================] - 5s - loss: 0.1081 - acc: 0.9660 - val_loss: 0.1039 - val_acc: 0.9663\n",
      "Epoch 10/30\n",
      "1146/1146 [==============================] - 5s - loss: 0.0876 - acc: 0.9747 - val_loss: 0.0934 - val_acc: 0.9663\n",
      "Epoch 11/30\n",
      "1146/1146 [==============================] - 5s - loss: 0.0611 - acc: 0.9834 - val_loss: 0.0818 - val_acc: 0.9663\n",
      "Epoch 12/30\n",
      "1146/1146 [==============================] - 5s - loss: 0.0542 - acc: 0.9825 - val_loss: 0.0764 - val_acc: 0.9700\n",
      "Epoch 13/30\n",
      "1146/1146 [==============================] - 5s - loss: 0.0368 - acc: 0.9913 - val_loss: 0.0716 - val_acc: 0.9813\n",
      "Epoch 14/30\n",
      "1146/1146 [==============================] - 5s - loss: 0.0220 - acc: 0.9956 - val_loss: 0.0750 - val_acc: 0.9663\n",
      "Epoch 15/30\n",
      "1146/1146 [==============================] - 5s - loss: 0.0198 - acc: 0.9948 - val_loss: 0.0682 - val_acc: 0.9663\n",
      "Epoch 16/30\n",
      "1146/1146 [==============================] - 5s - loss: 0.0140 - acc: 0.9974 - val_loss: 0.0697 - val_acc: 0.9850\n",
      "Epoch 17/30\n",
      "1146/1146 [==============================] - 5s - loss: 0.0117 - acc: 0.9974 - val_loss: 0.0870 - val_acc: 0.9738\n",
      "Epoch 18/30\n",
      "1146/1146 [==============================] - 5s - loss: 0.0127 - acc: 0.9965 - val_loss: 0.0696 - val_acc: 0.9775\n",
      "Epoch 19/30\n",
      "1146/1146 [==============================] - 5s - loss: 0.0106 - acc: 0.9983 - val_loss: 0.0672 - val_acc: 0.9700\n",
      "Epoch 20/30\n",
      "1146/1146 [==============================] - 5s - loss: 0.0137 - acc: 0.9956 - val_loss: 0.0728 - val_acc: 0.9700\n",
      "Epoch 21/30\n",
      "1146/1146 [==============================] - 5s - loss: 0.0091 - acc: 0.9983 - val_loss: 0.0895 - val_acc: 0.9738\n",
      "Epoch 22/30\n",
      "1146/1146 [==============================] - 5s - loss: 0.0103 - acc: 0.9965 - val_loss: 0.0680 - val_acc: 0.9813\n",
      "Epoch 23/30\n",
      "1146/1146 [==============================] - 5s - loss: 0.0053 - acc: 0.9991 - val_loss: 0.0682 - val_acc: 0.9775\n",
      "Epoch 24/30\n",
      "1146/1146 [==============================] - 5s - loss: 0.0043 - acc: 0.9991 - val_loss: 0.0742 - val_acc: 0.9738\n",
      "Epoch 25/30\n",
      "1146/1146 [==============================] - 5s - loss: 0.0051 - acc: 0.9991 - val_loss: 0.0674 - val_acc: 0.9738\n",
      "Epoch 26/30\n",
      "1146/1146 [==============================] - 5s - loss: 0.0052 - acc: 0.9983 - val_loss: 0.0655 - val_acc: 0.9775\n",
      "Epoch 27/30\n",
      "1146/1146 [==============================] - 5s - loss: 0.0031 - acc: 0.9991 - val_loss: 0.0713 - val_acc: 0.9813\n",
      "Epoch 28/30\n",
      "1146/1146 [==============================] - 5s - loss: 0.0034 - acc: 0.9991 - val_loss: 0.0838 - val_acc: 0.9738\n",
      "Epoch 29/30\n",
      "1146/1146 [==============================] - 5s - loss: 0.0028 - acc: 0.9991 - val_loss: 0.0820 - val_acc: 0.9813\n",
      "Epoch 30/30\n",
      "1146/1146 [==============================] - 5s - loss: 0.0041 - acc: 0.9991 - val_loss: 0.0766 - val_acc: 0.9813\n"
     ]
    }
   ],
   "source": [
    "history = model.fit(xTr_conv[tr_idx,:,:,:],\n",
    "                    yTr_cat,\n",
    "                    epochs=30,\n",
    "                    batch_size=128,\n",
    "                    validation_data=(xTe_conv[te_idx,:,:,:], yTe_cat))"
   ]
  },
  {
   "cell_type": "code",
   "execution_count": 20,
   "metadata": {},
   "outputs": [
    {
     "data": {
      "image/png": "[encoded data removed]",
      "text/plain": [
       "<matplotlib.figure.Figure at 0x7f1daf9919e8>"
      ]
     },
     "metadata": {},
     "output_type": "display_data"
    },
    {
     "data": {
      "image/png": "[encoded data removed]",
      "text/plain": [
       "<matplotlib.figure.Figure at 0x7f1da5e4c0f0>"
      ]
     },
     "metadata": {},
     "output_type": "display_data"
    }
   ],
   "source": [
    "plt.plot(history.history['acc'])\n",
    "plt.title('accuracy')\n",
    "plt.show()\n",
    "plt.plot(history.history['loss'])\n",
    "plt.title('loss')\n",
    "plt.show()"
   ]
  },
  {
   "cell_type": "code",
   "execution_count": 21,
   "metadata": {},
   "outputs": [
    {
     "data": {
      "text/plain": [
       "0.98751560549313355"
      ]
     },
     "execution_count": 21,
     "metadata": {},
     "output_type": "execute_result"
    }
   ],
   "source": [
    "preds = model.predict(xTe_conv[te_idx, :, :, :])\n",
    "(yTe_cat == preds.round()).mean()"
   ]
  },
  {
   "cell_type": "code",
   "execution_count": 30,
   "metadata": {},
   "outputs": [
    {
     "data": {
      "text/plain": [
       "0.98124673598252865"
      ]
     },
     "execution_count": 30,
     "metadata": {},
     "output_type": "execute_result"
    }
   ],
   "source": [
    "f1_score(yTe_cat.argmax(axis=1), preds.argmax(axis=1), average='weighted')"
   ]
  },
  {
   "cell_type": "code",
   "execution_count": null,
   "metadata": {
    "collapsed": true
   },
   "outputs": [],
   "source": []
  }
 ],
 "metadata": {
  "kernelspec": {
   "display_name": "Python 3",
   "language": "python",
   "name": "python3"
  },
  "language_info": {
   "codemirror_mode": {
    "name": "ipython",
    "version": 3
   },
   "file_extension": ".py",
   "mimetype": "text/x-python",
   "name": "python",
   "nbconvert_exporter": "python",
   "pygments_lexer": "ipython3",
   "version": "3.5.3"
  }
 },
 "nbformat": 4,
 "nbformat_minor": 1
}
