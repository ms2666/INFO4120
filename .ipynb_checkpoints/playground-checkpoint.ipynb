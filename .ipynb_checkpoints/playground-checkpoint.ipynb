{
 "cells": [
  {
   "cell_type": "code",
   "execution_count": 1,
   "metadata": {
    "collapsed": false
   },
   "outputs": [
    {
     "name": "stderr",
     "output_type": "stream",
     "text": [
      "/home/m/anaconda3/lib/python3.5/site-packages/sklearn/cross_validation.py:44: DeprecationWarning: This module was deprecated in version 0.18 in favor of the model_selection module into which all the refactored classes and functions are moved. Also note that the interface of the new CV iterators are different from that of this module. This module will be removed in 0.20.\n",
      "  \"This module will be removed in 0.20.\", DeprecationWarning)\n",
      "Using Theano backend.\n",
      "Can not use cuDNN on context None: cannot compile with cuDNN. We got this error:\n",
      "b'In file included from /tmp/try_flags_oz_pgq4l.c:4:0:\\n/usr/include/cudnn.h:63:26: fatal error: driver_types.h: No such file or directory\\n #include \"driver_types.h\"\\n                          ^\\ncompilation terminated.\\n'\n",
      "Mapped name None to device cuda: TITAN X (Pascal) (0000:01:00.0)\n"
     ]
    }
   ],
   "source": [
    "import numpy as np\n",
    "import matplotlib.pyplot as plt\n",
    "import pandas as pd\n",
    "import os, re, sys\n",
    "\n",
    "# sklearn stuff\n",
    "from sklearn.linear_model import LogisticRegression\n",
    "from sklearn.cross_validation import train_test_split\n",
    "from sklearn.decomposition import PCA\n",
    "\n",
    "# keras stuff\n",
    "from keras.models import Sequential\n",
    "from keras.layers import Dense, Activation, Dropout\n",
    "\n",
    "%matplotlib inline"
   ]
  },
  {
   "cell_type": "code",
   "execution_count": null,
   "metadata": {
    "collapsed": false
   },
   "outputs": [],
   "source": [
    "a = pd.read_csv('./Data/u001_w001/u001_w001_accelerometer.log', delimiter='\\t')"
   ]
  },
  {
   "cell_type": "code",
   "execution_count": null,
   "metadata": {
    "collapsed": false
   },
   "outputs": [],
   "source": [
    "a_mag = np.zeros(a.shape[0])\n",
    "for i in range(1, 4):\n",
    "    a_mag += a.ix[:,i].values ** 2\n",
    "a_mag = a_mag ** .5"
   ]
  },
  {
   "cell_type": "code",
   "execution_count": null,
   "metadata": {
    "collapsed": true
   },
   "outputs": [],
   "source": [
    "sample = a_mag[1000:5000]"
   ]
  },
  {
   "cell_type": "code",
   "execution_count": null,
   "metadata": {
    "collapsed": false,
    "scrolled": true
   },
   "outputs": [],
   "source": [
    "plt.figure(figsize=(10,4))\n",
    "plt.plot(sample)"
   ]
  },
  {
   "cell_type": "code",
   "execution_count": null,
   "metadata": {
    "collapsed": false
   },
   "outputs": [],
   "source": [
    "ft = np.fft.fft(sample)"
   ]
  },
  {
   "cell_type": "code",
   "execution_count": null,
   "metadata": {
    "collapsed": false
   },
   "outputs": [],
   "source": [
    "freq = np.fft.fftfreq(sample.shape[-1])\n",
    "plt.plot(freq, ft.imag)"
   ]
  },
  {
   "cell_type": "code",
   "execution_count": null,
   "metadata": {
    "collapsed": true
   },
   "outputs": [],
   "source": [
    "def delete_relevant(folder):\n",
    "    if folder[-1] != '/':\n",
    "        folder += '/'\n",
    "    files = os.listdir(folder)\n",
    "    for f in files:\n",
    "        if re.match(r'u[0-9]+_w[0-9]+_accelerometer\\.log', f) == None:\n",
    "            print('deleting %s' % f)\n",
    "            os.remove(folder + f)"
   ]
  },
  {
   "cell_type": "code",
   "execution_count": null,
   "metadata": {
    "collapsed": false,
    "scrolled": true
   },
   "outputs": [],
   "source": [
    "base = './Data/'\n",
    "for d in os.listdir(base):\n",
    "    if os.path.isdir(base + d):\n",
    "        delete_relevant(base + d)"
   ]
  },
  {
   "cell_type": "code",
   "execution_count": null,
   "metadata": {
    "collapsed": false
   },
   "outputs": [],
   "source": [
    "u_dict = {}\n",
    "files = [x for x in os.listdir(base) if os.path.isdir(base+x)]\n",
    "for f in files:\n",
    "    uid, trial = re.findall(r'u([0-9]+)_w([0-9]+)', f)[0]\n",
    "    uid, trial = int(uid), int(trial)\n",
    "    if uid not in u_dict:\n",
    "        u_dict[uid] = [trial]\n",
    "    else:\n",
    "        u_dict[uid].append(trial)"
   ]
  },
  {
   "cell_type": "code",
   "execution_count": null,
   "metadata": {
    "collapsed": false,
    "scrolled": true
   },
   "outputs": [],
   "source": [
    "u_dict"
   ]
  },
  {
   "cell_type": "code",
   "execution_count": null,
   "metadata": {
    "collapsed": true
   },
   "outputs": [],
   "source": [
    "def gen_fname(uid, trial):\n",
    "    f = lambda x: ('%3d' % x).replace(' ', '0')\n",
    "    return 'u%s_w%s' % (f(uid), f(trial))"
   ]
  },
  {
   "cell_type": "code",
   "execution_count": null,
   "metadata": {
    "collapsed": false
   },
   "outputs": [],
   "source": [
    "def get_data(uid, trial):\n",
    "    fname = gen_fname(uid, trial)\n",
    "    return pd.read_csv('./Data/%s/%s_accelerometer.log' % (fname, fname), delimiter='\\t')"
   ]
  },
  {
   "cell_type": "code",
   "execution_count": null,
   "metadata": {
    "collapsed": false
   },
   "outputs": [],
   "source": [
    "a = get_data(18,1)\n",
    "b = get_data(18,9)\n",
    "data1 = a.ix[1000:2000,1:].values\n",
    "data2 = b.ix[1000:2000,1:].values\n",
    "\n",
    "f, axarr = plt.subplots(3, 2, sharex=True, sharey=True)\n",
    "\n",
    "\n",
    "for i in range(3):\n",
    "    axarr[i, 0].plot(data1[:,i])\n",
    "    axarr[i, 1].plot(data2[:,i])"
   ]
  },
  {
   "cell_type": "code",
   "execution_count": null,
   "metadata": {
    "collapsed": false,
    "scrolled": true
   },
   "outputs": [],
   "source": [
    "pca = PCA(n_components=3)\n",
    "data3 = pca.fit_transform(data1)\n",
    "data4 = pca.fit_transform(data2)\n",
    "\n",
    "f, axarr = plt.subplots(3, 2, sharex=True, sharey=True)\n",
    "for i in range(3):\n",
    "    axarr[i, 0].plot(data3[:,i])\n",
    "    axarr[i, 1].plot(data4[:,i])"
   ]
  },
  {
   "cell_type": "code",
   "execution_count": null,
   "metadata": {
    "collapsed": false
   },
   "outputs": [],
   "source": [
    "model = Sequential([\n",
    "        \n",
    "    ])"
   ]
  },
  {
   "cell_type": "code",
   "execution_count": null,
   "metadata": {
    "collapsed": true
   },
   "outputs": [],
   "source": []
  },
  {
   "cell_type": "code",
   "execution_count": null,
   "metadata": {
    "collapsed": true
   },
   "outputs": [],
   "source": []
  }
 ],
 "metadata": {
  "anaconda-cloud": {},
  "kernelspec": {
   "display_name": "Python 3",
   "language": "python",
   "name": "python3"
  },
  "language_info": {
   "codemirror_mode": {
    "name": "ipython",
    "version": 3
   },
   "file_extension": ".py",
   "mimetype": "text/x-python",
   "name": "python",
   "nbconvert_exporter": "python",
   "pygments_lexer": "ipython3",
   "version": "3.5.3"
  }
 },
 "nbformat": 4,
 "nbformat_minor": 1
}
